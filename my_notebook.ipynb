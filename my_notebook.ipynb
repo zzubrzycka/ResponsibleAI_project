{
 "cells": [
  {
   "cell_type": "markdown",
   "id": "bb608d02-8fb3-422c-b076-6e7834eae9fe",
   "metadata": {
    "id": "bb608d02-8fb3-422c-b076-6e7834eae9fe"
   },
   "source": [
    "# Hiding Information in AI Explanations - Project Code.\n",
    "Author: Zofia Zubrzycka"
   ]
  },
  {
   "cell_type": "markdown",
   "id": "4-L4f7nTczOG",
   "metadata": {
    "id": "4-L4f7nTczOG"
   },
   "source": [
    "The code consists of few parts. Part I sets up the environment and is necessary to be run for the other parts to work. Part II represents the GUI and part III is an optional saliency map check."
   ]
  },
  {
   "cell_type": "markdown",
   "id": "W0gW2byhYCBb",
   "metadata": {
    "id": "W0gW2byhYCBb"
   },
   "source": [
    "## Running the code, part I - setting the environment\n",
    "An outside github repository needs to be cloned. Then, the only variable that needs to be changed by you in order to be able to run the code is the folder_path, which represents the folder of the cloned repository (and maybe also the font path in the image_from_text() function). After that, a few files need to be changed to my own versions of them. Then, the requirements are installed. The last cell in this part consists of all the imports and functions that are used in the GUI."
   ]
  },
  {
   "cell_type": "code",
   "execution_count": 1,
   "id": "2abe67f8-d079-4342-ac06-aaa0ab2ecd59",
   "metadata": {
    "id": "2abe67f8-d079-4342-ac06-aaa0ab2ecd59"
   },
   "outputs": [
    {
     "name": "stderr",
     "output_type": "stream",
     "text": [
      "Cloning into 'adv_explanation_ref'...\n"
     ]
    }
   ],
   "source": [
    "!git clone https://github.com/pankessel/adv_explanation_ref.git"
   ]
  },
  {
   "cell_type": "code",
   "execution_count": 2,
   "id": "635af9d8-2bc6-408a-a37f-f35ad4dad965",
   "metadata": {
    "id": "Z9reSjiTauNE"
   },
   "outputs": [],
   "source": [
    "folder_path = \"C:/users/julien/raifinal/adv_explanation_ref/\""
   ]
  },
  {
   "cell_type": "code",
   "execution_count": 3,
   "id": "c2cdf4b2-9084-4ba5-b4d6-aaf1becdfa6d",
   "metadata": {},
   "outputs": [],
   "source": [
    "import requests\n",
    "\n",
    "url = \"https://raw.githubusercontent.com/zzubrzycka/ResponsibleAI_project/refs/heads/main/run_attack.py\"\n",
    "save_path = \"adv_explanation_ref/src/run_attack.py\"\n",
    "\n",
    "url2 = \"https://raw.githubusercontent.com/zzubrzycka/ResponsibleAI_project/refs/heads/main/requirements.txt\"\n",
    "save_path2 = \"adv_explanation_ref/requirements.txt\"\n",
    "r = requests.get(url)\n",
    "with open(save_path, \"wb\") as f:\n",
    "    f.write(r.content)\n",
    "r = requests.get(url2)\n",
    "with open(save_path2, \"wb\") as f:\n",
    "    f.write(r.content)\n"
   ]
  },
  {
   "cell_type": "code",
   "execution_count": 4,
   "id": "61d0a2aa-a876-4571-ab2d-4fe2db981eef",
   "metadata": {},
   "outputs": [
    {
     "name": "stdout",
     "output_type": "stream",
     "text": [
      "C:\\Users\\Julien\\raifinal\\adv_explanation_ref\n"
     ]
    },
    {
     "name": "stderr",
     "output_type": "stream",
     "text": [
      "C:\\Users\\Julien\\AppData\\Local\\Programs\\Python\\Python310\\lib\\site-packages\\IPython\\core\\magics\\osm.py:417: UserWarning: This is now an optional IPython functionality, setting dhist requires you to install the `pickleshare` library.\n",
      "  self.shell.db['dhist'] = compress_dhist(dhist)[-100:]\n"
     ]
    }
   ],
   "source": [
    "cd adv_explanation_ref"
   ]
  },
  {
   "cell_type": "code",
   "execution_count": 5,
   "id": "be969636-9863-43e7-b9e4-ebbad6ad7191",
   "metadata": {
    "id": "be969636-9863-43e7-b9e4-ebbad6ad7191",
    "outputId": "bf3e7320-bbe5-4cf3-8eda-4cb2831ec5b2"
   },
   "outputs": [
    {
     "name": "stdout",
     "output_type": "stream",
     "text": [
      "Looking in indexes: https://pypi.org/simple, https://download.pytorch.org/whl/cu126\n",
      "Requirement already satisfied: numpy in c:\\users\\julien\\appdata\\local\\programs\\python\\python310\\lib\\site-packages (from -r requirements.txt (line 1)) (1.24.1)\n",
      "Requirement already satisfied: matplotlib in c:\\users\\julien\\appdata\\local\\programs\\python\\python310\\lib\\site-packages (from -r requirements.txt (line 2)) (3.8.0)\n",
      "Requirement already satisfied: torchcam in c:\\users\\julien\\appdata\\local\\programs\\python\\python310\\lib\\site-packages (from -r requirements.txt (line 3)) (0.4.0)\n",
      "Requirement already satisfied: torch>=2.0.0 in c:\\users\\julien\\appdata\\local\\programs\\python\\python310\\lib\\site-packages (from -r requirements.txt (line 6)) (2.7.1+cu126)\n",
      "Requirement already satisfied: torchvision in c:\\users\\julien\\appdata\\local\\programs\\python\\python310\\lib\\site-packages (from -r requirements.txt (line 7)) (0.22.1+cu126)\n",
      "Requirement already satisfied: torchaudio in c:\\users\\julien\\appdata\\local\\programs\\python\\python310\\lib\\site-packages (from -r requirements.txt (line 8)) (2.7.1+cu126)\n",
      "Requirement already satisfied: contourpy>=1.0.1 in c:\\users\\julien\\appdata\\local\\programs\\python\\python310\\lib\\site-packages (from matplotlib->-r requirements.txt (line 2)) (1.1.1)\n",
      "Requirement already satisfied: cycler>=0.10 in c:\\users\\julien\\appdata\\local\\programs\\python\\python310\\lib\\site-packages (from matplotlib->-r requirements.txt (line 2)) (0.12.1)\n",
      "Requirement already satisfied: fonttools>=4.22.0 in c:\\users\\julien\\appdata\\local\\programs\\python\\python310\\lib\\site-packages (from matplotlib->-r requirements.txt (line 2)) (4.43.1)\n",
      "Requirement already satisfied: kiwisolver>=1.0.1 in c:\\users\\julien\\appdata\\local\\programs\\python\\python310\\lib\\site-packages (from matplotlib->-r requirements.txt (line 2)) (1.4.5)\n",
      "Requirement already satisfied: packaging>=20.0 in c:\\users\\julien\\appdata\\local\\programs\\python\\python310\\lib\\site-packages (from matplotlib->-r requirements.txt (line 2)) (23.2)\n",
      "Requirement already satisfied: pillow>=6.2.0 in c:\\users\\julien\\appdata\\local\\programs\\python\\python310\\lib\\site-packages (from matplotlib->-r requirements.txt (line 2)) (9.4.0)\n",
      "Requirement already satisfied: pyparsing>=2.3.1 in c:\\users\\julien\\appdata\\local\\programs\\python\\python310\\lib\\site-packages (from matplotlib->-r requirements.txt (line 2)) (3.1.1)\n",
      "Requirement already satisfied: python-dateutil>=2.7 in c:\\users\\julien\\appdata\\local\\programs\\python\\python310\\lib\\site-packages (from matplotlib->-r requirements.txt (line 2)) (2.8.2)\n",
      "Requirement already satisfied: filelock in c:\\users\\julien\\appdata\\local\\programs\\python\\python310\\lib\\site-packages (from torch>=2.0.0->-r requirements.txt (line 6)) (3.12.2)\n",
      "Requirement already satisfied: typing-extensions>=4.10.0 in c:\\users\\julien\\appdata\\local\\programs\\python\\python310\\lib\\site-packages (from torch>=2.0.0->-r requirements.txt (line 6)) (4.14.1)\n",
      "Requirement already satisfied: sympy>=1.13.3 in c:\\users\\julien\\appdata\\local\\programs\\python\\python310\\lib\\site-packages (from torch>=2.0.0->-r requirements.txt (line 6)) (1.13.3)\n",
      "Requirement already satisfied: networkx in c:\\users\\julien\\appdata\\local\\programs\\python\\python310\\lib\\site-packages (from torch>=2.0.0->-r requirements.txt (line 6)) (3.1)\n",
      "Requirement already satisfied: jinja2 in c:\\users\\julien\\appdata\\local\\programs\\python\\python310\\lib\\site-packages (from torch>=2.0.0->-r requirements.txt (line 6)) (3.1.2)\n",
      "Requirement already satisfied: fsspec in c:\\users\\julien\\appdata\\local\\programs\\python\\python310\\lib\\site-packages (from torch>=2.0.0->-r requirements.txt (line 6)) (2023.10.0)\n",
      "Requirement already satisfied: six>=1.5 in c:\\users\\julien\\appdata\\local\\programs\\python\\python310\\lib\\site-packages (from python-dateutil>=2.7->matplotlib->-r requirements.txt (line 2)) (1.16.0)\n",
      "Requirement already satisfied: mpmath<1.4,>=1.1.0 in c:\\users\\julien\\appdata\\local\\programs\\python\\python310\\lib\\site-packages (from sympy>=1.13.3->torch>=2.0.0->-r requirements.txt (line 6)) (1.3.0)\n",
      "Requirement already satisfied: MarkupSafe>=2.0 in c:\\users\\julien\\appdata\\local\\programs\\python\\python310\\lib\\site-packages (from jinja2->torch>=2.0.0->-r requirements.txt (line 6)) (2.1.3)\n",
      "Note: you may need to restart the kernel to use updated packages.\n"
     ]
    }
   ],
   "source": [
    " pip install -r requirements.txt"
   ]
  },
  {
   "cell_type": "code",
   "execution_count": 6,
   "id": "95185ee4-90b9-4850-b9ae-df2ff92e87b3",
   "metadata": {},
   "outputs": [
    {
     "name": "stderr",
     "output_type": "stream",
     "text": [
      "C:\\Users\\Julien\\AppData\\Local\\Programs\\Python\\Python310\\lib\\site-packages\\tqdm\\auto.py:21: TqdmWarning: IProgress not found. Please update jupyter and ipywidgets. See https://ipywidgets.readthedocs.io/en/stable/user_install.html\n",
      "  from .autonotebook import tqdm as notebook_tqdm\n"
     ]
    },
    {
     "name": "stdout",
     "output_type": "stream",
     "text": [
      "no display found. Using non-interactive Agg backend\n"
     ]
    },
    {
     "name": "stderr",
     "output_type": "stream",
     "text": [
      "C:\\Users\\Julien\\AppData\\Local\\Programs\\Python\\Python310\\lib\\site-packages\\torchvision\\models\\_utils.py:208: UserWarning: The parameter 'pretrained' is deprecated since 0.13 and may be removed in the future, please use 'weights' instead.\n",
      "  warnings.warn(\n",
      "C:\\Users\\Julien\\AppData\\Local\\Programs\\Python\\Python310\\lib\\site-packages\\torchvision\\models\\_utils.py:223: UserWarning: Arguments other than a weight enum or `None` for 'weights' are deprecated since 0.13 and may be removed in the future. The current behavior is equivalent to passing `weights=ResNet34_Weights.IMAGENET1K_V1`. You can also use `weights=ResNet34_Weights.DEFAULT` to get the most up-to-date weights.\n",
      "  warnings.warn(msg)\n"
     ]
    }
   ],
   "source": [
    "import os\n",
    "import shutil\n",
    "import subprocess\n",
    "import requests\n",
    "from io import BytesIO\n",
    "\n",
    "import gradio as gr\n",
    "import numpy as np\n",
    "import matplotlib.pyplot as plt\n",
    "from PIL import Image, ImageDraw, ImageFont\n",
    "\n",
    "import torch\n",
    "import torch.nn.functional as F\n",
    "from torchvision import models, transforms\n",
    "from torchvision.models import resnet50\n",
    "from torchvision.transforms import Compose, Resize, ToTensor, Normalize\n",
    "from torchvision.transforms.functional import to_pil_image\n",
    "from torchcam.methods import GradCAM\n",
    "\n",
    "from pathlib import Path\n",
    "import sys\n",
    "sys.path.append(str(Path().resolve() / \"src\"))\n",
    "\n",
    "from nn.utils import get_expl, load_image\n",
    "from nn.enums import ExplainingMethod\n",
    "from nn.networks import ExplainableNet\n",
    "import torchvision.models as models\n",
    "\n",
    "imagenet_classes = requests.get(\"https://raw.githubusercontent.com/pytorch/hub/master/imagenet_classes.txt\").text.splitlines()\n",
    "\n",
    "model = models.resnet34(pretrained=True)\n",
    "model.eval()\n",
    "\n",
    "model_gradcam = models.resnet34(pretrained=True)\n",
    "model_gradcam.eval()\n",
    "cam_extractor = GradCAM(model_gradcam, target_layer=model_gradcam.layer4[-1])\n",
    "\n",
    "transform = transforms.Compose([\n",
    "    transforms.Resize((224, 224)),\n",
    "    transforms.ToTensor(),\n",
    "    transforms.Normalize(mean=[0.485, 0.456, 0.406],\n",
    "                         std=[0.229, 0.224, 0.225])\n",
    "])\n",
    "\n",
    "\n",
    "#input image and an image made from text undergo this\n",
    "def preprocess_image(input_image, output_path):\n",
    "\n",
    "    image_rgb = input_image.convert(\"RGB\")\n",
    "    image_rgb.save(output_path, format=\"PNG\")\n",
    "\n",
    "    return Image.open(output_path)\n",
    "\n",
    "\n",
    "#made for classyfying the image and returning its probability\n",
    "def classify(image):\n",
    "\n",
    "    input_tensor = transform(image).unsqueeze(0)\n",
    "\n",
    "    with torch.no_grad():\n",
    "        output = model(input_tensor)\n",
    "        probs = F.softmax(output, dim=1)\n",
    "        top_prob, top_class = probs.topk(1, dim=1)\n",
    "\n",
    "    class_name = imagenet_classes[top_class.item()]\n",
    "    probability = top_prob.item()\n",
    "    return class_name, probability\n",
    "\n",
    "\n",
    "#helper functions for creating an image from text, they manage situations in which the word is very\n",
    "#long or there are few words or when in general the whole string is too long and doesnt fit in the image\n",
    "def text_size(draw, text, font):\n",
    "    bbox = draw.textbbox((0, 0), text, font=font)\n",
    "    width = bbox[2] - bbox[0]\n",
    "    height = bbox[3] - bbox[1]\n",
    "    return width, height\n",
    "\n",
    "def split_long_word(word, font, max_width, draw):\n",
    "    parts = []\n",
    "    part = \"\"\n",
    "    for char in word:\n",
    "        test = part + char\n",
    "        w, _ = text_size(draw, test, font)\n",
    "        if w > max_width:\n",
    "            if part:\n",
    "                parts.append(part)\n",
    "            part = char\n",
    "        else:\n",
    "            part = test\n",
    "    if part:\n",
    "        parts.append(part)\n",
    "    return parts\n",
    "\n",
    "def wrap_text_to_fit(text, font, max_width, draw):\n",
    "    words = text.split()\n",
    "    lines = []\n",
    "    current_line = \"\"\n",
    "\n",
    "    for word in words:\n",
    "        test_line = (current_line + \" \" + word).strip()\n",
    "        w, _ = text_size(draw, test_line, font)\n",
    "        if w <= max_width:\n",
    "            current_line = test_line\n",
    "        else:\n",
    "            if current_line:\n",
    "                lines.append(current_line)\n",
    "\n",
    "            w_word, _ = text_size(draw, word, font)\n",
    "            if w_word <= max_width:\n",
    "                current_line = word\n",
    "            else:\n",
    "                split_parts = split_long_word(word, font, max_width, draw)\n",
    "                for i, part in enumerate(split_parts):\n",
    "                    if i == 0:\n",
    "                        current_line = part\n",
    "                    else:\n",
    "                        lines.append(current_line)\n",
    "                        current_line = part\n",
    "    if current_line:\n",
    "        lines.append(current_line)\n",
    "\n",
    "    return lines\n",
    "\n",
    "def find_max_font_and_wrapped(text, image_size, font_path, max_font_size=500, min_font_size=20, width_ratio=0.8):\n",
    "    img = Image.new('L', image_size)\n",
    "    draw = ImageDraw.Draw(img)\n",
    "    width, height = image_size\n",
    "\n",
    "    max_text_width = int(width * width_ratio)\n",
    "\n",
    "    for font_size in reversed(range(min_font_size, max_font_size + 1, 2)):\n",
    "        font = ImageFont.truetype(font_path, font_size)\n",
    "        w, h = text_size(draw, text, font)\n",
    "        if w <= max_text_width and h <= height:\n",
    "            return font, [text]\n",
    "        font = ImageFont.truetype(font_path, min_font_size)\n",
    "\n",
    "    lines = wrap_text_to_fit(text, font, max_text_width, draw)\n",
    "\n",
    "    line_height = text_size(draw, \"Ay\", font)[1] + 4\n",
    "    max_lines = height // line_height\n",
    "\n",
    "    if len(lines) > max_lines:\n",
    "        lines = lines[:max_lines]\n",
    "        if lines:\n",
    "            last_line = lines[-1]\n",
    "            ellipsis = \"…\"\n",
    "            while text_size(draw, last_line + ellipsis, font)[0] > max_text_width and last_line:\n",
    "                last_line = last_line[:-1]\n",
    "            lines[-1] = last_line + ellipsis\n",
    "\n",
    "    return font, lines\n",
    "\n",
    "\n",
    "\n",
    "\n",
    "#main function for creating the image from text based on previous ones\n",
    "def image_from_text(text, width, height, width_ratio=0.7):\n",
    "    font_path = \"C:/Windows/Fonts/georgia.ttf\"\n",
    "    image_size = (width, height)\n",
    "\n",
    "    font, lines = find_max_font_and_wrapped(text, image_size, font_path, width_ratio=width_ratio)\n",
    "\n",
    "    img = Image.new('L', image_size, color=0)\n",
    "    draw = ImageDraw.Draw(img)\n",
    "\n",
    "    line_height = text_size(draw, \"Ay\", font)[1] + 4\n",
    "    total_text_height = line_height * len(lines)\n",
    "    y = (height - total_text_height) // 2\n",
    "\n",
    "    for line in lines:\n",
    "        w, _ = text_size(draw, line, font)\n",
    "        x = (width - w) // 2\n",
    "        draw.text((x, y), line, font=font, fill=255)\n",
    "        y += line_height\n",
    "\n",
    "    return img\n",
    "\n",
    "\n",
    "\n",
    "\n",
    "#my try of the gradcam method, its not used in the code, but i wanted to include it\n",
    "def saliency_map_gen(input_image, model=model_gradcam, device=\"cuda\"):\n",
    "    model = model.to(device)\n",
    "\n",
    "\n",
    "    preprocess = transforms.Compose([\n",
    "        transforms.Resize((224, 224)),\n",
    "        transforms.ToTensor(),\n",
    "    ])\n",
    "\n",
    "\n",
    "    if isinstance(input_image, Image.Image):\n",
    "        x = preprocess(input_image).unsqueeze(0).to(device)\n",
    "    elif isinstance(input_image, torch.Tensor):\n",
    "        x = input_image.clone().detach().to(device)\n",
    "        if x.dim() == 3:\n",
    "            x = x.unsqueeze(0)\n",
    "    else:\n",
    "        raise ValueError(\"Unsupported input type for saliency_map_gen\")\n",
    "\n",
    "    x.requires_grad = True\n",
    "\n",
    "    output = model(x)\n",
    "    class_idx = output.argmax(dim=1).item()\n",
    "    score = output[0, class_idx]\n",
    "    score.backward()\n",
    "\n",
    "    saliency = x.grad * x\n",
    "    saliency = saliency.abs().sum(dim=1, keepdim=True)\n",
    "    saliency = saliency - saliency.min()\n",
    "    saliency = saliency / (saliency.sum() + 1e-8)\n",
    "    saliency = F.interpolate(saliency, size=(224, 224), mode='bilinear', align_corners=False)\n",
    "\n",
    "    return saliency.detach()\n",
    "\n",
    "\n",
    "\n",
    "#lrp method\n",
    "def get_lrp_map(image_path, model=None, device=None, folder_path=None):\n",
    "    if device is None:\n",
    "        device = \"cuda\" if torch.cuda.is_available() else \"cpu\"\n",
    "\n",
    "    #ImageNet normalisation\n",
    "    data_mean = [0.485, 0.456, 0.406]\n",
    "    data_std = [0.229, 0.224, 0.225]\n",
    "\n",
    "    full_path = Path(os.path.join(folder_path, image_path)) if folder_path else Path(image_path)\n",
    "    x = load_image(data_mean, data_std, device, full_path)\n",
    "\n",
    "    if model is None:\n",
    "        base_model = models.vgg16(pretrained=True)\n",
    "        model = ExplainableNet(model=base_model).eval().to(device)\n",
    "\n",
    "    expl_map, _, _ = get_expl(model, x, ExplainingMethod.lrp)\n",
    "\n",
    "    return expl_map.squeeze(0).detach()\n",
    "\n",
    "\n",
    "#connecting everything to one function\n",
    "def run(input_image, text_to_encode):\n",
    "\n",
    "    #creating a tuple so each output in gradio can be shown after its done and not that everything is shown together at the end\n",
    "    outputs = [None]*8\n",
    "    yield tuple(outputs)\n",
    "\n",
    "    #cleaning the temporary files\n",
    "    temp_folder_path = os.path.join(folder_path, \"temp/\")\n",
    "\n",
    "    if os.path.exists(temp_folder_path):\n",
    "        shutil.rmtree(temp_folder_path)\n",
    "\n",
    "    os.makedirs(temp_folder_path)\n",
    "\n",
    "\n",
    "    #taking care of the original input image\n",
    "    temp_path_input_image = os.path.join(folder_path, \"temp/temp_input_image.png\")\n",
    "    preprocessed_input_image = preprocess_image(input_image, temp_path_input_image)\n",
    "\n",
    "\n",
    "    #taking care of the text\n",
    "    width,height = input_image.size\n",
    "    text_image = image_from_text(text_to_encode, width, height)\n",
    "    temp_path_text_image = os.path.join(folder_path, \"temp/temp_text_image.png\")\n",
    "    preprocessed_text_image = preprocess_image(text_image, temp_path_text_image)\n",
    "\n",
    "    #checking the original classification and its probability\n",
    "    print(\"checking the original class and probability...\")\n",
    "    original_class, original_probability = classify(preprocessed_input_image)\n",
    "    outputs[0] = original_class\n",
    "    outputs[1] = original_probability\n",
    "    yield tuple(outputs)\n",
    "\n",
    "\n",
    "    #running the outside script\n",
    "    python_file_folder_path = os.path.join(folder_path, \"src/\")\n",
    "    model_path = os.path.join(folder_path, 'models/model_vgg16_pattern_small.pth')\n",
    "    outputs_path = os.path.join(folder_path, \"output/\")\n",
    "    print(\"running the script...\")\n",
    "    subprocess.run([\"python\", \"run_attack.py\", \"--cuda\", \"--img\", temp_path_input_image, \"--target_img\", temp_path_text_image, '--output_dir', outputs_path, '--model_path', model_path],  cwd=python_file_folder_path)\n",
    "\n",
    "\n",
    "    #ccopying all the images to the temporary folder\n",
    "    print(\"copying the images...\")\n",
    "    images = {}\n",
    "    for i in [\"manipulated_image.png\", \"original_expl.png\", \"target_expl.png\", \"manipulated_expl.png\"]:\n",
    "        shutil.copy(os.path.join(folder_path, f\"output/{i}\"), os.path.join(folder_path, f\"temp/temp_{i}\"))\n",
    "        key = i.replace(\".png\", \"\")\n",
    "        images[key] = Image.open(os.path.join(folder_path, f\"temp/temp_{i}\"))\n",
    "\n",
    "    outputs[2] = images[\"original_expl\"]\n",
    "    outputs[3] = images[\"target_expl\"]\n",
    "    outputs[4] = images[\"manipulated_expl\"]\n",
    "    outputs[5] = images[\"manipulated_image\"]\n",
    "    yield tuple(outputs)\n",
    "\n",
    "    original_expl = images[\"original_expl\"]\n",
    "    target_expl = images[\"target_expl\"]\n",
    "    manipulated_expl = images[\"manipulated_expl\"]\n",
    "    manipulated_image = images[\"manipulated_image\"]\n",
    "\n",
    "    #checking the new classification and its probability\n",
    "    new_class, new_probability = classify(manipulated_image)\n",
    "    outputs[6] = new_class\n",
    "    outputs[7] = new_probability\n",
    "    yield tuple(outputs)\n",
    "    \n",
    "\n",
    "   # return original_class, original_probability, original_expl, target_expl, manipulated_expl, manipulated_image, new_class, new_probability"
   ]
  },
  {
   "cell_type": "markdown",
   "id": "AajKBPDabxdI",
   "metadata": {
    "id": "AajKBPDabxdI"
   },
   "source": [
    "## Running the code, part II - gradio GUI\n",
    "Here, the GUI can be run and used by the user (after running all the previous cells in part I)."
   ]
  },
  {
   "cell_type": "code",
   "execution_count": 7,
   "id": "f900d686-49cc-4e15-a301-07c69fcf2f84",
   "metadata": {
    "scrolled": true
   },
   "outputs": [
    {
     "name": "stderr",
     "output_type": "stream",
     "text": [
      "C:\\Users\\Julien\\AppData\\Local\\Programs\\Python\\Python310\\lib\\site-packages\\gradio\\layouts\\column.py:59: UserWarning: 'scale' value should be an integer. Using 0.5 will cause issues.\n",
      "  warnings.warn(\n"
     ]
    },
    {
     "name": "stdout",
     "output_type": "stream",
     "text": [
      "* Running on local URL:  http://127.0.0.1:7860\n",
      "* To create a public link, set `share=True` in `launch()`.\n"
     ]
    },
    {
     "data": {
      "text/html": [
       "<div><iframe src=\"http://127.0.0.1:7860/\" width=\"100%\" height=\"500\" allow=\"autoplay; camera; microphone; clipboard-read; clipboard-write;\" frameborder=\"0\" allowfullscreen></iframe></div>"
      ],
      "text/plain": [
       "<IPython.core.display.HTML object>"
      ]
     },
     "metadata": {},
     "output_type": "display_data"
    },
    {
     "name": "stdout",
     "output_type": "stream",
     "text": [
      "checking the original class and probability...\n",
      "running the script...\n",
      "copying the images...\n",
      "Keyboard interruption in main thread... closing server.\n"
     ]
    },
    {
     "data": {
      "text/plain": []
     },
     "execution_count": 7,
     "metadata": {},
     "output_type": "execute_result"
    }
   ],
   "source": [
    "import gradio as gr\n",
    "\n",
    "with gr.Blocks(title=\"Hiding information in AI explanations\", css=\"\"\"\n",
    "    .results-container {\n",
    "        background-color: #f0f0f0 !important;\n",
    "        padding: 15px !important;\n",
    "        border-radius: 8px !important;\n",
    "        border: 1px solid #ddd !important;\n",
    "    }\n",
    "\n",
    "    .textbox-container {\n",
    "        max-width: 100% !important;\n",
    "    }\n",
    "\n",
    "    .image-container label {\n",
    "        font-size: 1.4em !important;\n",
    "        font-weight: bold !important;\n",
    "    }\n",
    "\n",
    "    .result-image {\n",
    "        height: 300px !important;\n",
    "        width: 100% !important;\n",
    "        object-fit: contain !important;\n",
    "    }\n",
    "\n",
    "    .result-image img {\n",
    "        height: 300px !important;\n",
    "        width: 100% !important;\n",
    "        object-fit: contain !important;\n",
    "    }\n",
    "\n",
    "    * {\n",
    "        font-size: 20px !important;\n",
    "    }\n",
    "\n",
    "    h1 {\n",
    "        font-size: 32px !important;\n",
    "    }\n",
    "\n",
    "    h3 {\n",
    "        font-size: 24px !important;\n",
    "    }\n",
    "\n",
    "    label, span, div, input, textarea, button {\n",
    "        font-size: 20px !important;\n",
    "    }\n",
    "\n",
    "    .gr-textbox input, .gr-textbox textarea {\n",
    "        font-size: 20px !important;\n",
    "    }\n",
    "\n",
    "    .gr-button {\n",
    "        font-size: 20px !important;\n",
    "    }\n",
    "\"\"\") as demo:\n",
    "    gr.Markdown(\"# Hiding information in AI explanations\")\n",
    "    gr.Markdown(\"Here you can upload a picture of your choice and choose the text that should be displayed\")\n",
    "    with gr.Row():\n",
    "        with gr.Column(scale=1):\n",
    "            gr.Markdown(\"### Inputs\")\n",
    "            input_image = gr.Image(type=\"pil\", label=\"Upload Image\")\n",
    "            input_text = gr.Textbox(label=\"Text Input\")\n",
    "            submit_btn = gr.Button(\"Process\", variant=\"primary\")\n",
    "        with gr.Column(scale=3, elem_classes=[\"results-container\"]):\n",
    "            gr.Markdown(\"### Results\")\n",
    "            with gr.Row():\n",
    "                with gr.Column(scale=0.5):\n",
    "                    output_text1 = gr.Textbox(\n",
    "                        label=\"Original Classification\",\n",
    "                        interactive=False\n",
    "                    )\n",
    "                    output_text2 = gr.Textbox(\n",
    "                        label=\"Original Probability\",\n",
    "                        interactive=False\n",
    "                    )\n",
    "                with gr.Column(scale=2):\n",
    "                    original_saliency = gr.Image(\n",
    "                        type=\"pil\",\n",
    "                        label=\"Original Explaination\",\n",
    "                        interactive=False,\n",
    "                        elem_classes=[\"result-image\", \"image-container\"]\n",
    "                    )\n",
    "                with gr.Column(scale=2):\n",
    "                    text_saliency = gr.Image(\n",
    "                        type=\"pil\",\n",
    "                        label=\"Text Explaination\",\n",
    "                        interactive=False,\n",
    "                        elem_classes=[\"result-image\", \"image-container\"]\n",
    "                    )\n",
    "            with gr.Row():\n",
    "                with gr.Column(scale=0.5):\n",
    "                    output_text3 = gr.Textbox(\n",
    "                        label=\"New Classification\",\n",
    "                        interactive=False\n",
    "                    )\n",
    "                    output_text4 = gr.Textbox(\n",
    "                        label=\"New Probability\",\n",
    "                        interactive=False\n",
    "                    )\n",
    "                with gr.Column(scale=2):\n",
    "                    reconstructed_image = gr.Image(\n",
    "                        type=\"pil\",\n",
    "                        label=\"Reconstructed image\",\n",
    "                        interactive=False,\n",
    "                        elem_classes=[\"result-image\", \"image-container\"]\n",
    "                    )\n",
    "                with gr.Column(scale=2):\n",
    "                    manipulated_saliency = gr.Image(\n",
    "                        type=\"pil\",\n",
    "                        label=\"Manipulated Explaination\",\n",
    "                        interactive=False,\n",
    "                        elem_classes=[\"result-image\", \"image-container\"]\n",
    "                    )\n",
    "\n",
    "    submit_btn.click(\n",
    "        fn=run,\n",
    "        inputs=[input_image, input_text],\n",
    "        outputs=[output_text1, output_text2, original_saliency, text_saliency,\n",
    "                manipulated_saliency, reconstructed_image, output_text3, output_text4]\n",
    "    )\n",
    "\n",
    "demo.launch(debug=True, show_api=False)"
   ]
  },
  {
   "cell_type": "markdown",
   "id": "tGnvrQtIb-DI",
   "metadata": {
    "id": "tGnvrQtIb-DI"
   },
   "source": [
    "## Running the code part III - checking the maniplauted image explanation\n",
    "This part is optional, it was made only for checking if the explanation of the manipulated image actually looks like the target explanation. So the generated manipulated image is run through a function that creates a saliency map with the LRP algorithm. This part also can be run only after running all the cells in part I and the image_path variable needs to be changed."
   ]
  },
  {
   "cell_type": "code",
   "execution_count": 8,
   "id": "9c512a77-4d72-4609-b374-8b87b54faa94",
   "metadata": {
    "id": "9c512a77-4d72-4609-b374-8b87b54faa94",
    "outputId": "5a925d39-731c-4b19-ef11-7e3d8ceb1fec"
   },
   "outputs": [
    {
     "name": "stderr",
     "output_type": "stream",
     "text": [
      "C:\\Users\\Julien\\AppData\\Local\\Programs\\Python\\Python310\\lib\\site-packages\\torchvision\\models\\_utils.py:208: UserWarning: The parameter 'pretrained' is deprecated since 0.13 and may be removed in the future, please use 'weights' instead.\n",
      "  warnings.warn(\n",
      "C:\\Users\\Julien\\AppData\\Local\\Programs\\Python\\Python310\\lib\\site-packages\\torchvision\\models\\_utils.py:223: UserWarning: Arguments other than a weight enum or `None` for 'weights' are deprecated since 0.13 and may be removed in the future. The current behavior is equivalent to passing `weights=VGG16_Weights.IMAGENET1K_V1`. You can also use `weights=VGG16_Weights.DEFAULT` to get the most up-to-date weights.\n",
      "  warnings.warn(msg)\n"
     ]
    },
    {
     "data": {
      "image/png": "[encoded data removed]",
      "text/plain": [
       "<Figure size 640x480 with 1 Axes>"
      ]
     },
     "metadata": {},
     "output_type": "display_data"
    }
   ],
   "source": [
    "\n",
    "# manipulated image explanation can be tested here\n",
    "%matplotlib inline\n",
    "\n",
    "import os\n",
    "import matplotlib.pyplot as plt\n",
    "\n",
    "image_path = os.path.join(folder_path, \"temp/temp_manipulated_image.png\")\n",
    "\n",
    "lrp_map = get_lrp_map(image_path, device=\"cuda\")\n",
    "\n",
    "plt.imshow(lrp_map.cpu().numpy(), cmap=\"hot\")\n",
    "plt.axis(\"off\")\n",
    "\n",
    "# Zapisz obraz do pliku\n",
    "output_path = os.path.join(folder_path, \"temp/2temp_manipulated_image.png\")\n",
    "plt.savefig(output_path, bbox_inches=\"tight\", pad_inches=0)\n",
    "\n",
    "plt.show()\n"
   ]
  },
  {
   "cell_type": "markdown",
   "id": "Hge9YRAhhJ5R",
   "metadata": {
    "id": "Hge9YRAhhJ5R"
   },
   "source": [
    "## My attempt for manipulation algorithm"
   ]
  },
  {
   "cell_type": "code",
   "execution_count": null,
   "id": "BoCq6W1bhI3T",
   "metadata": {
    "id": "BoCq6W1bhI3T"
   },
   "outputs": [],
   "source": [
    "import torch\n",
    "import torch.nn.functional as F\n",
    "import torchvision.transforms as T\n",
    "import torchvision.models as models\n",
    "import matplotlib.pyplot as plt\n",
    "import numpy as np\n",
    "from PIL import Image\n",
    "\n",
    "device = torch.device(\"cuda\" if torch.cuda.is_available() else \"cpu\")\n",
    "transform = T.Compose([\n",
    "    T.Resize((224, 224)),\n",
    "    T.ToTensor(),\n",
    "])\n",
    "\n",
    "def load_image2(path):\n",
    "    image = Image.open(path).convert('RGB')\n",
    "    return transform(image).unsqueeze(0).to(device)\n",
    "\n",
    "source_path = os.path.join(folder_path, \"data/temp_input_image.png\")\n",
    "target_path = os.path.join(folder_path, \"data/temp_text_image.png\")\n",
    "\n",
    "x_source = load_image2(source_path)\n",
    "x_target = load_image2(target_path)\n",
    "\n",
    "from nn.networks import ExplainableNet\n",
    "from nn.utils import get_expl, ExplainingMethod\n",
    "\n",
    "\n",
    "vgg_model = models.vgg16(pretrained=True)\n",
    "model = ExplainableNet(vgg_model).eval().to(device)\n",
    "\n",
    "def simple_lrp(model, x):\n",
    "    expl_map, _, _ = get_expl(model, x, method=ExplainingMethod.lrp)\n",
    "    return expl_map\n"
   ]
  },
  {
   "cell_type": "code",
   "execution_count": null,
   "id": "_dR9DWhJiPjo",
   "metadata": {
    "id": "_dR9DWhJiPjo"
   },
   "outputs": [],
   "source": [
    "def manipulate_image(model, x_source, h_target, explanation_fn, gamma=1e-3,\n",
    "                     steps=1000, lr=1e-2, clamp=(0, 1)):\n",
    "\n",
    "    x_adv = x_source.clone().detach().requires_grad_(True)\n",
    "    optimizer = torch.optim.Adam([x_adv], lr=lr)\n",
    "\n",
    "    with torch.no_grad():\n",
    "        g_orig = model(x_source)\n",
    "\n",
    "    for step in range(steps):\n",
    "        optimizer.zero_grad()\n",
    "\n",
    "        h_adv = explanation_fn(model, x_adv)\n",
    "        sal_loss = F.mse_loss(h_adv, h_target)\n",
    "\n",
    "        g_adv = model(x_adv)\n",
    "        class_loss = F.mse_loss(g_adv, g_orig)\n",
    "\n",
    "        loss = sal_loss + gamma * class_loss\n",
    "        loss.backward()\n",
    "        optimizer.step()\n",
    "\n",
    "        with torch.no_grad():\n",
    "            x_adv.clamp_(*clamp)\n",
    "\n",
    "        if step % 100 == 0:\n",
    "            print(f\"[{step}] Loss={loss.item():.4e} | Sal={sal_loss.item():.4e} | Class={class_loss.item():.4e}\")\n",
    "\n",
    "    return x_adv.detach()\n",
    "\n",
    "with torch.no_grad():\n",
    "    h_target = get_lrp_map(target_path, model=model, device=device)\n",
    "    h_source = get_lrp_map(source_path, model=model, device=device)\n",
    "\n"
   ]
  },
  {
   "cell_type": "code",
   "execution_count": null,
   "id": "66c177c1-7294-48e3-8c3e-2d880345ff3f",
   "metadata": {
    "id": "0smNLYaziR6A"
   },
   "outputs": [],
   "source": [
    "x_adv = manipulate_image(model, x_source, h_target, simple_lrp, gamma=1e-2, steps=1000, lr=5e-2)\n"
   ]
  },
  {
   "cell_type": "code",
   "execution_count": null,
   "id": "FAGAaJoYiUYO",
   "metadata": {
    "id": "FAGAaJoYiUYO"
   },
   "outputs": [],
   "source": [
    "def show(img_tensor, title=\"\"):\n",
    "    img = img_tensor.squeeze().detach().cpu().numpy()\n",
    "    if img.shape[0] == 3:\n",
    "        img = np.transpose(img, (1, 2, 0))\n",
    "    elif img.shape[0] == 1:\n",
    "        img = img[0]\n",
    "    plt.imshow(img, cmap='viridis')\n",
    "    plt.axis('off')\n",
    "    plt.title(title)\n",
    "    plt.show()\n",
    "\n",
    "h_adv = simple_lrp(model, x_adv)\n",
    "\n",
    "show(x_source, \"Source Image\")\n",
    "show(x_target, \"Target Image\")\n",
    "show(x_adv, \"Manipulated Image\")\n",
    "\n",
    "show(h_source, \"Source Saliency\")\n",
    "show(h_target, \"Target Saliency\")\n",
    "show(h_adv, \"Manipulated Saliency\")\n"
   ]
  },
  {
   "cell_type": "code",
   "execution_count": null,
   "id": "af50b47c-4c6c-48a5-bf56-a60acc7af897",
   "metadata": {
    "id": "af50b47c-4c6c-48a5-bf56-a60acc7af897"
   },
   "outputs": [],
   "source": [
    "#!python C:\\users\\julien\\rai_project_LOCAL\\adv_explanation_ref\\src\\run_attack.py --cuda"
   ]
  }
 ],
 "metadata": {
  "colab": {
   "collapsed_sections": [
    "W0gW2byhYCBb",
    "AajKBPDabxdI",
    "tGnvrQtIb-DI"
   ],
   "provenance": []
  },
  "kernelspec": {
   "display_name": "Python 3 (ipykernel)",
   "language": "python",
   "name": "python3"
  },
  "language_info": {
   "codemirror_mode": {
    "name": "ipython",
    "version": 3
   },
   "file_extension": ".py",
   "mimetype": "text/x-python",
   "name": "python",
   "nbconvert_exporter": "python",
   "pygments_lexer": "ipython3",
   "version": "3.10.6"
  }
 },
 "nbformat": 4,
 "nbformat_minor": 5
}
